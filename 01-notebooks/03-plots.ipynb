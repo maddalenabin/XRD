{
 "cells": [
  {
   "cell_type": "code",
   "execution_count": 7,
   "metadata": {},
   "outputs": [],
   "source": [
    "%matplotlib notebook\n",
    "import matplotlib.pyplot as plt\n",
    "import numpy as np\n",
    "#import fabio\n",
    "import sys\n",
    "import h5py\n",
    "\n",
    "sys.path.insert(0, '../scripts/')\n",
    "#from integrators import*\n",
    "#from utilities import *\n",
    "from files_tools import*\n"
   ]
  },
  {
   "cell_type": "markdown",
   "metadata": {},
   "source": [
    "Set directory"
   ]
  },
  {
   "cell_type": "code",
   "execution_count": 8,
   "metadata": {},
   "outputs": [
    {
     "name": "stdout",
     "output_type": "stream",
     "text": [
      "/Users/maddalena/Documents/01-SU/beamtimes/21-04-DESY-P10/02-tests\n"
     ]
    },
    {
     "data": {
      "text/plain": [
       "'/Users/maddalena/Documents/01-SU/beamtimes/21-04-DESY-P10/02-tests'"
      ]
     },
     "execution_count": 8,
     "metadata": {},
     "output_type": "execute_result"
    }
   ],
   "source": [
    "# save teh path of the working directory\n",
    "%cd ..\n",
    "path = !pwd\n",
    "path = path[0]\n",
    "path"
   ]
  },
  {
   "cell_type": "code",
   "execution_count": 9,
   "metadata": {},
   "outputs": [],
   "source": [
    " # path to old data for comparison\n",
    "path2 = '/Users/maddalena/documents/02-UniPD/02-LM Physics/2020-stockholm/master-project/01-data-analysis/XRD/new-analysis/source'"
   ]
  },
  {
   "cell_type": "markdown",
   "metadata": {},
   "source": [
    "# Load data"
   ]
  },
  {
   "cell_type": "code",
   "execution_count": 16,
   "metadata": {},
   "outputs": [
    {
     "name": "stdout",
     "output_type": "stream",
     "text": [
      "calibrator-2021-03-16.hdf5 mask-d2.npy\r\n",
      "calibrator-2021-03-19.hdf5 mask.npy\r\n",
      "centers-d2.npy             q-d2.npy\r\n",
      "centers.npy                q.npy\r\n"
     ]
    }
   ],
   "source": [
    "!ls 01-xrd/source"
   ]
  },
  {
   "cell_type": "code",
   "execution_count": 10,
   "metadata": {},
   "outputs": [],
   "source": [
    "temp = [295, 290, 280, 270, 260, 250, 240, 230, 220, 210, 200, 190, 180]\n"
   ]
  },
  {
   "cell_type": "code",
   "execution_count": 17,
   "metadata": {},
   "outputs": [],
   "source": [
    "q = np.load('01-xrd/source/q.npy')\n",
    "q_old = np.loadtxt(path2+'/q_0114.txt')"
   ]
  },
  {
   "cell_type": "code",
   "execution_count": 36,
   "metadata": {
    "scrolled": false
   },
   "outputs": [
    {
     "name": "stdout",
     "output_type": "stream",
     "text": [
      "/2d-pattern\n",
      "\t /2d-pattern/bg (1024, 1024)\n",
      "\t /2d-pattern/mask (1024, 1024)\n",
      "\t /2d-pattern/no_bg (1024, 1024)\n",
      "\t /2d-pattern/with_bg (1024, 1024)\n",
      "/Iq\n",
      "\t /Iq/Iq (512,)\n",
      "\t /Iq/Iq2 (500,)\n",
      "\t /Iq/q0114 (512,)\n",
      "\t /Iq/q2 (500,)\n",
      "/info\n",
      "\t /info/detector-sample ()\n",
      "\t /info/energy ()\n",
      "\t /info/peak-radius ()\n",
      "\t /info/pixel_size ()\n",
      "\t /info/xy-center (2,)\n"
     ]
    }
   ],
   "source": [
    "# new data 2020-12-07\n",
    "f = h5py.File(path+'/01-xrd/source/calibrator-2021-03-16.hdf5', 'r')\n",
    "f.visititems(visit_func)   \n",
    "\n",
    "#bg = np.asarray(f['/tool/background'])\n",
    "#Lys_w = np.asarray(f['/Iq/Lys200_wei'])\n",
    "#Lys_v = np.asarray(f['/Iq/Lys200_vol'])\n",
    "#Solv = np.asarray(f['/Iq/Wat-Gly_11v'])\n",
    "f.close()\n"
   ]
  },
  {
   "cell_type": "code",
   "execution_count": null,
   "metadata": {},
   "outputs": [],
   "source": [
    "ls /Users/maddalena/OneDrive\\ -\\ Stockholm\\ University/02-UniPD/02-LM\\ Physics/2020-stockholm/master-project/01-data-analysis/XRD/new-analysis/source"
   ]
  },
  {
   "cell_type": "code",
   "execution_count": null,
   "metadata": {},
   "outputs": [],
   "source": [
    "# water\n",
    "f1 = h5py.File(path2+'/ang_avg_2019-11-29.hdf5', 'r')\n",
    "f1.visititems(visit_func)\n",
    "#Iq_DryPow_n = f1['/Dry/wtc'][:]\n",
    "#Iq_HydPow_n = f1['/Hyd/wtc'][:]\n",
    "Iq_wat = np.asarray(f1['/water/Iq_with_bg'])\n",
    "f1.close()"
   ]
  },
  {
   "cell_type": "code",
   "execution_count": null,
   "metadata": {},
   "outputs": [],
   "source": [
    "# 2020-01-14\n",
    "f1 = h5py.File(path2+'/ang_avg_norm_data.hdf5', 'r')\n",
    "#f1.visititems(visit_func)\n",
    "Iq_DryPow_n = f1['/Dry/wtc'][:]\n",
    "Iq_HydPow_n = f1['/Hyd/wtc'][:]\n",
    "\n",
    "f1.close()"
   ]
  },
  {
   "cell_type": "code",
   "execution_count": null,
   "metadata": {},
   "outputs": [],
   "source": [
    "# import old data: 2020-01-14\n",
    "f = h5py.File(path2+'/ang_avg_raw_data.hdf5', 'r')\n",
    "#f.visititems(visit_func)   \n",
    "Iq_DryPow = np.asarray(f['/Dry/diff_T/ctw/no_bg'])\n",
    "Iq_HydPow = np.asarray(f['/Hyd/diff_T/wtc/no_bg'])\n",
    "Iq_HydPow_bg = np.asarray(f['/Hyd/diff_T/wtc/with_bg'])\n",
    "\n",
    "f.close()"
   ]
  },
  {
   "cell_type": "code",
   "execution_count": null,
   "metadata": {},
   "outputs": [],
   "source": [
    "# 2019-12-12 freezing sample\n",
    "\n",
    "f = h5py.File(path2+'/ang_avg_2019-12-12_freezing.hdf5', 'r')\n",
    "#f.visititems(visit_func) \n",
    "Iq_FHydPow_n = f['/Iq/Iq_no_bg_norm'][:]\n",
    "im2d_f_bg = f['/im2d/im2d_bg'][:]\n",
    "im2d_f = f['/im2d/im2d_nobg'][:]\n",
    "f.close()\n"
   ]
  },
  {
   "cell_type": "markdown",
   "metadata": {},
   "source": [
    "# Background subtraction"
   ]
  },
  {
   "cell_type": "code",
   "execution_count": null,
   "metadata": {},
   "outputs": [],
   "source": [
    "def subtr_offset(Iq, Iq_bg, w=1.):\n",
    "    off = Iq_bg[0] - Iq[0]\n",
    "    Iq_npbg = Iq - w*(Iq_bg-off)\n",
    "    \n",
    "    return Iq_npbg"
   ]
  },
  {
   "cell_type": "code",
   "execution_count": null,
   "metadata": {},
   "outputs": [],
   "source": [
    "!ls data/2021-01-14"
   ]
  },
  {
   "cell_type": "code",
   "execution_count": null,
   "metadata": {},
   "outputs": [],
   "source": [
    "temp"
   ]
  },
  {
   "cell_type": "code",
   "execution_count": null,
   "metadata": {},
   "outputs": [],
   "source": [
    "T = np.array([295,240,220,200,180,180,180,180])\n",
    "T2 = np.array([295,240,220,200,180])\n",
    "T3 = np.array([295,240,240,220])"
   ]
  },
  {
   "cell_type": "markdown",
   "metadata": {},
   "source": [
    "# Plots"
   ]
  },
  {
   "cell_type": "markdown",
   "metadata": {},
   "source": [
    "## Water/Glycerol 1:1 volume"
   ]
  },
  {
   "cell_type": "code",
   "execution_count": null,
   "metadata": {
    "scrolled": false
   },
   "outputs": [],
   "source": [
    "plt.figure(figsize=(9,4))\n",
    "\n",
    "plt.subplot(121)\n",
    "col = plt.cm.jet(np.linspace(1,0,len(Lys_v)+1))\n",
    "for i in range(0,len(Lys_v)):\n",
    "    if i in (0,1,2,3,4,7):#!= 5 or i != 6:\n",
    "        #Iq = ang_and_plot(path+'/data/2021-01-14/%s' %WatGlyVol[i])\n",
    "        plt.plot(q, Lys_v[i], c=col[i], lw=1, label='%d K' %T[i])\n",
    "\n",
    "#for i in range(len(Ih_ref)-4):\n",
    "#    plt.axvline(x=Ih_ref[i], c='gray', lw=1, alpha=1,ls='-.')\n",
    "plt.xlabel(r'Q [$\\rm\\AA^{-1}$]', fontsize=14)\n",
    "plt.ylabel(r'I(Q)', fontsize=14)\n",
    "plt.xlim(q[0], q[-1])\n",
    "#plt.ylim(0, 1.2)\n",
    "plt.legend(frameon=False)\n",
    "#plt.title('lys 200mg/ml in Wat/Gly 1:1 vol')\n",
    "\n",
    "plt.subplot(122)\n",
    "col = plt.cm.jet(np.linspace(1,0,len(Solv)+1))\n",
    "for i in range(0,len(Solv)):\n",
    "    #Iq = ang_and_plot(path+'/data/2021-01-14/%s' %Lys200Vol[i])\n",
    "    plt.plot(q, Solv[i], c=col[i], lw=1, label=f'{T2[i]} K')\n",
    "plt.plot(q,Iq_wat, 'k--', label='water')\n",
    "plt.xlabel(r'Q [$\\rm\\AA^{-1}$]', fontsize=14)\n",
    "plt.ylabel(r'I(Q)', fontsize=14)\n",
    "plt.xlim(q[0], q[-1])\n",
    "#plt.ylim(0, 1.2)\n",
    "plt.legend(frameon=False)\n",
    "#plt.title('Wat/Gly 1:1 vol')\n",
    "\n",
    "plt.tight_layout()\n",
    "plt.savefig('/Users/maddalena/Desktop/fig1.png', dpi=300)\n",
    "plt.show()"
   ]
  },
  {
   "cell_type": "markdown",
   "metadata": {},
   "source": [
    "## Water/Glycerol 1:1 weight"
   ]
  },
  {
   "cell_type": "code",
   "execution_count": null,
   "metadata": {},
   "outputs": [],
   "source": [
    "plt.figure(figsize=(9,4))\n",
    "\n",
    "plt.subplot(121)\n",
    "col = plt.cm.jet(np.linspace(1,0,len(Lys_w)))\n",
    "for i in range(0,len(Lys_w[:-1])):\n",
    "    #Iq = ang_and_plot(path+'/data/2021-01-14/%s' %WatGlyVol[i])\n",
    "    plt.plot(q, Lys_w[i], c=col[i], lw=1, label='%d K' %T3[i])\n",
    "\n",
    "#for i in range(len(Ih_ref)-4):\n",
    "#    plt.axvline(x=Ih_ref[i], c='gray', lw=1, alpha=1,ls='-.')\n",
    "plt.xlabel(r'Q [$\\rm\\AA^{-1}$]', fontsize=14)\n",
    "plt.ylabel(r'I(Q)', fontsize=14)\n",
    "plt.xlim(q[0], q[-1])\n",
    "#plt.ylim(0, 1.2)\n",
    "plt.legend(frameon=False)\n",
    "plt.title('lys 200mg/ml in Wat/Gly 1:1 weight')\n",
    "\n",
    "plt.subplot(122)\n",
    "col = plt.cm.jet(np.linspace(1,0,len(Solv)+1))\n",
    "for i in range(0,len(Solv)):\n",
    "    #Iq = ang_and_plot(path+'/data/2021-01-14/%s' %Lys200Vol[i])\n",
    "    plt.plot(q, Solv[i], c=col[i], lw=1, label=f'{T2[i]} K')\n",
    "\n",
    "plt.xlabel(r'Q [$\\rm\\AA^{-1}$]', fontsize=14)\n",
    "plt.ylabel(r'I(Q)', fontsize=14)\n",
    "plt.xlim(q[0], q[-1])\n",
    "#plt.ylim(0, 1.2)\n",
    "plt.legend(frameon=False)\n",
    "#plt.title('Wat/Gly 1:1 vol')\n",
    "\n",
    "plt.tight_layout()\n",
    "plt.savefig('/Users/maddalena/Desktop/fig2.png', dpi=300)\n",
    "plt.show()"
   ]
  },
  {
   "cell_type": "code",
   "execution_count": null,
   "metadata": {},
   "outputs": [],
   "source": []
  }
 ],
 "metadata": {
  "kernelspec": {
   "display_name": "Python 3",
   "language": "python",
   "name": "python3"
  },
  "language_info": {
   "codemirror_mode": {
    "name": "ipython",
    "version": 3
   },
   "file_extension": ".py",
   "mimetype": "text/x-python",
   "name": "python",
   "nbconvert_exporter": "python",
   "pygments_lexer": "ipython3",
   "version": "3.8.5"
  },
  "toc": {
   "base_numbering": 1,
   "nav_menu": {},
   "number_sections": true,
   "sideBar": true,
   "skip_h1_title": false,
   "title_cell": "Table of Contents",
   "title_sidebar": "Contents",
   "toc_cell": false,
   "toc_position": {},
   "toc_section_display": true,
   "toc_window_display": false
  },
  "varInspector": {
   "cols": {
    "lenName": 16,
    "lenType": 16,
    "lenVar": 40
   },
   "kernels_config": {
    "python": {
     "delete_cmd_postfix": "",
     "delete_cmd_prefix": "del ",
     "library": "var_list.py",
     "varRefreshCmd": "print(var_dic_list())"
    },
    "r": {
     "delete_cmd_postfix": ") ",
     "delete_cmd_prefix": "rm(",
     "library": "var_list.r",
     "varRefreshCmd": "cat(var_dic_list()) "
    }
   },
   "types_to_exclude": [
    "module",
    "function",
    "builtin_function_or_method",
    "instance",
    "_Feature"
   ],
   "window_display": true
  }
 },
 "nbformat": 4,
 "nbformat_minor": 4
}
